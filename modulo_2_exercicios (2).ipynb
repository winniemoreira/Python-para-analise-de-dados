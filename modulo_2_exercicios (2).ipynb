{
 "cells": [
  {
   "cell_type": "markdown",
   "metadata": {
    "id": "KJqp9AANOCtf"
   },
   "source": [
    "<img src=\"https://raw.githubusercontent.com/andre-marcos-perez/ebac-course-utils/main/media/logo/newebac_logo_black_half.png\" alt=\"ebac-logo\">\n",
    "\n",
    "---\n",
    "\n",
    "# **Módulo 02** | Python: Estruturas de Dados\n",
    "Caderno de **Exercícios**<br> \n",
    "Professor [André Perez](https://www.linkedin.com/in/andremarcosperez/)\n",
    "\n",
    "---"
   ]
  },
  {
   "cell_type": "markdown",
   "metadata": {
    "id": "d9jDtUbDOE1-"
   },
   "source": [
    "# **Tópicos**\n",
    "\n",
    "<ol type=\"1\">\n",
    "  <li>Listas;</li>\n",
    "  <li>Conjuntos;</li>\n",
    "  <li>Dicionários.</li>\n",
    "</ol>"
   ]
  },
  {
   "cell_type": "markdown",
   "metadata": {
    "id": "SmoHgt-lwkpD"
   },
   "source": [
    "---"
   ]
  },
  {
   "cell_type": "markdown",
   "metadata": {
    "id": "GABI6OW8OfQ2"
   },
   "source": [
    "# **Exercícios**"
   ]
  },
  {
   "cell_type": "markdown",
   "metadata": {
    "id": "muD1vxozykSC"
   },
   "source": [
    "## 1\\. Listas"
   ]
  },
  {
   "cell_type": "markdown",
   "metadata": {
    "id": "ahrFfCuBxJKs"
   },
   "source": [
    "Criei uma lista chamada `filmes` com o nome dos 10 primeiros filmes mais bem avaliados no site no [IMDB](https://www.imdb.com/chart/top/). Imprima o resultado."
   ]
  },
  {
   "cell_type": "code",
   "execution_count": 16,
   "metadata": {
    "id": "OgL6Hv3bzOHI"
   },
   "outputs": [
    {
     "name": "stdout",
     "output_type": "stream",
     "text": [
      "['Um Sonho de Liberdade', 'O poderoso Chefão', 'Batman: O Cavaleiro das Trevas', 'O Poderoso Chefão II', '12 Homens e uma Sentença', 'A Lista de Schindler', 'O Senhor dos Anéis: O Retorno do Rei', 'Pulp Fiction: Tempo de Violência', 'O Senhor dos Anéis: A Sociedade do Anel', 'Três Homens em Conflito']\n"
     ]
    }
   ],
   "source": [
    "filmes = ['Um Sonho de Liberdade',\n",
    "          'O poderoso Chefão',\n",
    "          'Batman: O Cavaleiro das Trevas',\n",
    "          'O Poderoso Chefão II',\n",
    "          '12 Homens e uma Sentença',\n",
    "          'A Lista de Schindler',\n",
    "          'O Senhor dos Anéis: O Retorno do Rei',\n",
    "          'Pulp Fiction: Tempo de Violência',\n",
    "          'O Senhor dos Anéis: A Sociedade do Anel',\n",
    "          'Três Homens em Conflito']\n",
    "\n",
    "print (filmes)"
   ]
  },
  {
   "cell_type": "markdown",
   "metadata": {
    "id": "KI9zQRT2xa7m"
   },
   "source": [
    "Simule a movimentação do *ranking*. Utilize os métodos `insert` e `pop` para trocar a posição do primeiro e do segundo filme da lista. Imprima o resultado.\n",
    "\n"
   ]
  },
  {
   "cell_type": "code",
   "execution_count": 17,
   "metadata": {
    "id": "zX3mA3_GzrXH"
   },
   "outputs": [
    {
     "name": "stdout",
     "output_type": "stream",
     "text": [
      "['O poderoso Chefão', 'Um Sonho de Liberdade', 'Batman: O Cavaleiro das Trevas', 'O Poderoso Chefão II', '12 Homens e uma Sentença', 'A Lista de Schindler', 'O Senhor dos Anéis: O Retorno do Rei', 'Pulp Fiction: Tempo de Violência', 'O Senhor dos Anéis: A Sociedade do Anel', 'Três Homens em Conflito']\n"
     ]
    }
   ],
   "source": [
    "filmes.insert(0, 'O poderoso Chefão')\n",
    "novo_filmes = filmes.pop(2)\n",
    "print(filmes)"
   ]
  },
  {
   "cell_type": "markdown",
   "metadata": {
    "id": "zMN1Q3jdwoJm"
   },
   "source": [
    "---"
   ]
  },
  {
   "cell_type": "markdown",
   "metadata": {
    "id": "lxa5L6uF0ZJE"
   },
   "source": [
    "## 2\\. Conjuntos"
   ]
  },
  {
   "cell_type": "markdown",
   "metadata": {
    "id": "9JahS2Kj0d5u"
   },
   "source": [
    "Aconteceu um erro no seu *ranking*. Simule a duplicação dos três últimos filmes da lista. Imprima o resultado."
   ]
  },
  {
   "cell_type": "code",
   "execution_count": 19,
   "metadata": {
    "id": "BnjnLBNC6PGe"
   },
   "outputs": [
    {
     "name": "stdout",
     "output_type": "stream",
     "text": [
      "['Um Sonho de Liberdade', 'O poderoso Chefão', 'Batman: O Cavaleiro das Trevas', 'O Poderoso Chefão II', '12 Homens e uma Sentença', 'A Lista de Schindler', 'O Senhor dos Anéis: O Retorno do Rei', 'Pulp Fiction: Tempo de Violência', 'O Senhor dos Anéis: A Sociedade do Anel', 'Três Homens em Conflito', 'Pulp Fiction: Tempo de Violência', 'O Senhor dos Anéis: A Sociedade do Anel', 'Três Homens em Conflito']\n"
     ]
    }
   ],
   "source": [
    "filmes = ['Um Sonho de Liberdade',\n",
    "          'O poderoso Chefão',\n",
    "          'Batman: O Cavaleiro das Trevas',\n",
    "          'O Poderoso Chefão II',\n",
    "          '12 Homens e uma Sentença',\n",
    "          'A Lista de Schindler',\n",
    "          'O Senhor dos Anéis: O Retorno do Rei',\n",
    "          'Pulp Fiction: Tempo de Violência',\n",
    "          'O Senhor dos Anéis: A Sociedade do Anel',\n",
    "          'Três Homens em Conflito',\n",
    "          'Pulp Fiction: Tempo de Violência',\n",
    "          'O Senhor dos Anéis: A Sociedade do Anel',\n",
    "          'Três Homens em Conflito']\n",
    "\n",
    "print (filmes)"
   ]
  },
  {
   "cell_type": "markdown",
   "metadata": {
    "id": "suxTfCJB6ZiX"
   },
   "source": [
    "Utiliza a conversão `set` e `list` para remover os valores duplicados. Imprima o resultado. "
   ]
  },
  {
   "cell_type": "code",
   "execution_count": 22,
   "metadata": {
    "id": "ZvUGN-0n6joM"
   },
   "outputs": [
    {
     "name": "stdout",
     "output_type": "stream",
     "text": [
      "['Batman: O Cavaleiro das Trevas', 'O poderoso Chefão', '12 Homens e uma Sentença', 'O Senhor dos Anéis: O Retorno do Rei', 'O Poderoso Chefão II', 'O Senhor dos Anéis: A Sociedade do Anel', 'A Lista de Schindler', 'Um Sonho de Liberdade', 'Pulp Fiction: Tempo de Violência', 'Três Homens em Conflito']\n"
     ]
    }
   ],
   "source": [
    "novo_filmes = list(set(filmes))\n",
    "print(novo_filmes)"
   ]
  },
  {
   "cell_type": "markdown",
   "metadata": {
    "id": "ShkK35eQ6pAM"
   },
   "source": [
    "---"
   ]
  },
  {
   "cell_type": "markdown",
   "metadata": {
    "id": "EL_FzmxL6rTv"
   },
   "source": [
    "## 3\\. Dicionários"
   ]
  },
  {
   "cell_type": "markdown",
   "metadata": {
    "id": "i8l0gFqRCpfT"
   },
   "source": [
    "Repita os exercícios da parte 1 (listas). Os elementos da lista `filmes` devem ser dicionários no seguinte formato: `{'nome': <nome-do-filme>, 'ano': <ano do filme>}, 'sinopse': <sinopse do filme>}`. "
   ]
  },
  {
   "cell_type": "code",
   "execution_count": 36,
   "metadata": {},
   "outputs": [
    {
     "name": "stdout",
     "output_type": "stream",
     "text": [
      "[{'nome': 'Um Sonho de Liberdade', 'ano': 1994, 'sinopse': 'Dois homens presos se reúnem ao longo de vários anos, encontrando consolo e eventual redenção através de atos de decência comum.'}, {'nome': 'O Poderoso Chefão', 'ano': 1972, 'sinopse': 'O patriarca idoso de uma dinastia do crime organizado transfere o controle de seu império clandestino para seu filho relutante.'}, {'nome': 'Batman: O Cavaleiro das Trevas', 'ano': 2008, 'sinopse': 'Quando a ameaça conhecida como O Coringa surge de seu passado, causa estragos e caos nas pessoas de Gotham. O Cavaleiro das Trevas deve aceitar um dos maiores testes para combater a injustiça.'}, {'nome': 'O Poderoso Chefão II', 'ano': 1974, 'sinopse': 'Em 1950, Michael Corleone, agora à frente da família, tenta expandir o negócio do crime a Las Vegas, Los Angeles e Cuba. Paralelamente, é revelada a história de Vito Corleone, e de como saiu da Sicília e chegou a Nova Iorque.'}, {'nome': '12 Homens e uma Sentença', 'ano': 1957, 'sinopse': 'Um jurado que se aposenta tenta evitar um erro judicial forçando seus colegas a reconsiderarem as evidências.'}, {'nome': 'A Lista de Schindler', 'ano': 1993, 'sinopse': 'Depois de testemunhar a perseguição dos judaicos na Polônia ocupada pelos alemães durante a Segunda Guerra Mundial, o industrial Oskar Schindler se começa a preocupar com sua força de trabalho judaica.'}, {'nome': 'O Senhor dos Anéis: O Retorno do Rei', 'ano': 2003, 'sinopse': 'Gandalf e Aragorn lideram o Mundo dos Homens contra o exército de Sauron para desviar o olhar de Frodo e Sam quando eles se aproximam á Montanha da Perdição com o Um Anel.'}, {'nome': 'Pulp Fiction: Tempo de Violência', 'ano': 1994, 'sinopse': 'As vidas de dois assassinos da máfia, um boxeador, um gângster e sua esposa, e um par de bandidos se entrelaçam em quatro histórias de violência e redenção.'}, {'nome': 'O Senhor dos Anéis: A Sociedade do Anel', 'ano': 2001, 'sinopse': 'Um manso hobbit do Condado e oito companheiros partem em uma jornada para destruir o poderoso Um Anel e salvar a Terra-média das Trevas.'}, {'nome': 'Três Homens em Conflito', 'ano': 1966, 'sinopse': 'Um impostor se junta com dois homens para encontrar fortuna num remoto cemitério.'}]\n"
     ]
    }
   ],
   "source": [
    "dicionario_filmes = []\n",
    "\n",
    "filme = {'nome': 'Um Sonho de Liberdade',\n",
    "         'ano': 1994,\n",
    "         'sinopse': 'Dois homens presos se reúnem ao longo de vários anos, encontrando consolo e eventual redenção através de atos de decência comum.'\n",
    "        }\n",
    "dicionario_filmes.append(filme)\n",
    "\n",
    "filme = {'nome': 'O Poderoso Chefão',\n",
    "         'ano': 1972,\n",
    "         'sinopse': 'O patriarca idoso de uma dinastia do crime organizado transfere o controle de seu império clandestino para seu filho relutante.'\n",
    "         }\n",
    "dicionario_filmes.append(filme)\n",
    "\n",
    "filme = {'nome': 'Batman: O Cavaleiro das Trevas',\n",
    "         'ano': 2008,\n",
    "         'sinopse': 'Quando a ameaça conhecida como O Coringa surge de seu passado, causa estragos e caos nas pessoas de Gotham. O Cavaleiro das Trevas deve aceitar um dos maiores testes para combater a injustiça.'\n",
    "         }\n",
    "dicionario_filmes.append(filme)\n",
    "\n",
    "filme = {'nome': 'O Poderoso Chefão II',\n",
    "         'ano': 1974,\n",
    "         'sinopse':'Em 1950, Michael Corleone, agora à frente da família, tenta expandir o negócio do crime a Las Vegas, Los Angeles e Cuba. Paralelamente, é revelada a história de Vito Corleone, e de como saiu da Sicília e chegou a Nova Iorque.'\n",
    "        }\n",
    "dicionario_filmes.append(filme)\n",
    "\n",
    "filme = {'nome': '12 Homens e uma Sentença',\n",
    "         'ano': 1957,\n",
    "         'sinopse':'Um jurado que se aposenta tenta evitar um erro judicial forçando seus colegas a reconsiderarem as evidências.'\n",
    "        }\n",
    "dicionario_filmes.append(filme)\n",
    "\n",
    "filme = {'nome': 'A Lista de Schindler',\n",
    "         'ano': 1993,\n",
    "         'sinopse':'Depois de testemunhar a perseguição dos judaicos na Polônia ocupada pelos alemães durante a Segunda Guerra Mundial, o industrial Oskar Schindler se começa a preocupar com sua força de trabalho judaica.'\n",
    "        }\n",
    "dicionario_filmes.append(filme)\n",
    "\n",
    "filme = {'nome': 'O Senhor dos Anéis: O Retorno do Rei',\n",
    "         'ano': 2003,\n",
    "         'sinopse':'Gandalf e Aragorn lideram o Mundo dos Homens contra o exército de Sauron para desviar o olhar de Frodo e Sam quando eles se aproximam á Montanha da Perdição com o Um Anel.'\n",
    "        }\n",
    "dicionario_filmes.append(filme)\n",
    "\n",
    "filme = {'nome': 'Pulp Fiction: Tempo de Violência',\n",
    "         'ano': 1994,\n",
    "         'sinopse':'As vidas de dois assassinos da máfia, um boxeador, um gângster e sua esposa, e um par de bandidos se entrelaçam em quatro histórias de violência e redenção.'\n",
    "        }\n",
    "dicionario_filmes.append(filme)\n",
    "\n",
    "filme = {'nome': 'O Senhor dos Anéis: A Sociedade do Anel',\n",
    "         'ano': 2001,\n",
    "         'sinopse':'Um manso hobbit do Condado e oito companheiros partem em uma jornada para destruir o poderoso Um Anel e salvar a Terra-média das Trevas.'\n",
    "        }\n",
    "dicionario_filmes.append(filme)\n",
    "\n",
    "filme = {'nome': 'Três Homens em Conflito',\n",
    "         'ano': 1966,\n",
    "         'sinopse':'Um impostor se junta com dois homens para encontrar fortuna num remoto cemitério.'\n",
    "        }\n",
    "dicionario_filmes.append(filme)\n",
    "\n",
    "print(dicionario_filmes)"
   ]
  }
 ],
 "metadata": {
  "colab": {
   "collapsed_sections": [],
   "name": "module_2_exercise.ipynb",
   "provenance": [],
   "toc_visible": true
  },
  "kernelspec": {
   "display_name": "Python 3",
   "language": "python",
   "name": "python3"
  },
  "language_info": {
   "codemirror_mode": {
    "name": "ipython",
    "version": 3
   },
   "file_extension": ".py",
   "mimetype": "text/x-python",
   "name": "python",
   "nbconvert_exporter": "python",
   "pygments_lexer": "ipython3",
   "version": "3.8.8"
  }
 },
 "nbformat": 4,
 "nbformat_minor": 1
}
