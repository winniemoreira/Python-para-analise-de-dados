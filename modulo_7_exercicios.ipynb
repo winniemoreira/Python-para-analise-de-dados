{
 "cells": [
  {
   "cell_type": "markdown",
   "metadata": {
    "id": "KJqp9AANOCtf"
   },
   "source": [
    "<img src=\"https://raw.githubusercontent.com/andre-marcos-perez/ebac-course-utils/main/media/logo/newebac_logo_black_half.png\" alt=\"ebac-logo\">\n",
    "\n",
    "---\n",
    "\n",
    "# **Módulo 07** | Python: Programação Orientada a Objetos\n",
    "Caderno de **Exercícios**<br> \n",
    "Professor [André Perez](https://www.linkedin.com/in/andremarcosperez/)\n",
    "\n",
    "---"
   ]
  },
  {
   "cell_type": "markdown",
   "metadata": {
    "id": "d9jDtUbDOE1-"
   },
   "source": [
    "# **Tópicos**\n",
    "\n",
    "<ol type=\"1\">\n",
    "  <li>from / import / as;</li>\n",
    "  <li>Módulo;</li>\n",
    "  <li>Pacote;</li>\n",
    "  <li>Baixando pacotes.</li>\n",
    "</ol>"
   ]
  },
  {
   "cell_type": "markdown",
   "metadata": {
    "id": "SmoHgt-lwkpD"
   },
   "source": [
    "---"
   ]
  },
  {
   "cell_type": "markdown",
   "metadata": {
    "id": "GABI6OW8OfQ2"
   },
   "source": [
    "# **Exercícios**"
   ]
  },
  {
   "cell_type": "markdown",
   "metadata": {
    "id": "muD1vxozykSC"
   },
   "source": [
    "## 0\\. Preparação do ambiente"
   ]
  },
  {
   "cell_type": "markdown",
   "metadata": {
    "id": "ahrFfCuBxJKs"
   },
   "source": [
    "Neste exercício vamos utilizar a base de dados de ações da bolsa de valores dos EUA, a Dow Jones. Os dados estão disponíveis para *download* neste [link](https://archive.ics.uci.edu/ml/datasets/Dow+Jones+Index). Vamos utilizar o pacote `wget` para fazer o *download* dos dados."
   ]
  },
  {
   "cell_type": "markdown",
   "metadata": {
    "id": "AtPc2994meNR"
   },
   "source": [
    " - Instalando o pacote `wget` na versão 3.2."
   ]
  },
  {
   "cell_type": "code",
   "execution_count": 4,
   "metadata": {
    "id": "DzM3--8Gk_mU"
   },
   "outputs": [
    {
     "name": "stdout",
     "output_type": "stream",
     "text": [
      "Collecting wget\n",
      "  Downloading wget-3.2.zip (10 kB)\n",
      "Building wheels for collected packages: wget\n",
      "  Building wheel for wget (setup.py): started\n",
      "  Building wheel for wget (setup.py): still running...\n",
      "  Building wheel for wget (setup.py): finished with status 'done'\n",
      "  Created wheel for wget: filename=wget-3.2-py3-none-any.whl size=9680 sha256=b9af80aeb7b1a91a358dc0ceb670602fd2b5d99b1d05c330bb2aca23d1884bca\n",
      "  Stored in directory: c:\\users\\winni\\appdata\\local\\pip\\cache\\wheels\\bd\\a8\\c3\\3cf2c14a1837a4e04bd98631724e81f33f462d86a1d895fae0\n",
      "Successfully built wget\n",
      "Installing collected packages: wget\n",
      "Successfully installed wget-3.2\n"
     ]
    }
   ],
   "source": [
    "!pip install wget"
   ]
  },
  {
   "cell_type": "markdown",
   "metadata": {
    "id": "tVc1aUTmmkIU"
   },
   "source": [
    " - Fazendo o download dos dados no arquivo compactado `dados.zip`."
   ]
  },
  {
   "cell_type": "code",
   "execution_count": 5,
   "metadata": {
    "id": "SZWlsi2blOOt",
    "scrolled": true
   },
   "outputs": [
    {
     "data": {
      "text/plain": [
       "'./dados.zip'"
      ]
     },
     "execution_count": 5,
     "metadata": {},
     "output_type": "execute_result"
    }
   ],
   "source": [
    "import wget\n",
    "\n",
    "wget.download(url='https://archive.ics.uci.edu/ml/machine-learning-databases/00312/dow_jones_index.zip', out='./dados.zip')"
   ]
  },
  {
   "cell_type": "markdown",
   "metadata": {
    "id": "339oiie2mvCP"
   },
   "source": [
    " - Descompactando os `dados` na pasta dados com o pacote nativo `zipfile`."
   ]
  },
  {
   "cell_type": "code",
   "execution_count": 6,
   "metadata": {
    "id": "6tFPV081loK4"
   },
   "outputs": [],
   "source": [
    "import zipfile\n",
    "\n",
    "with zipfile.ZipFile('./dados.zip', 'r') as fp:\n",
    "  fp.extractall('./dados')"
   ]
  },
  {
   "cell_type": "markdown",
   "metadata": {
    "id": "KI9zQRT2xa7m"
   },
   "source": [
    "Verifique a pasta dados criada, ela deve conter dois arquivos:\n",
    "\n",
    " - **dow_jones_index.data**: um arquivo com os dados;\n",
    " - **dow_jones_index.names**: um arquivo com a descrição completa dos dados.\n",
    "\n",
    "É possível observar que o arquivo de dados é um arquivo separado por virgulas, o famoso `csv`. Vamos renomear o arquivo de dados para que ele tenha a extensão `csv` com o pacote nativo `os`."
   ]
  },
  {
   "cell_type": "markdown",
   "metadata": {
    "id": "5k7LLQU5n8aY"
   },
   "source": [
    "- Renomeando o arquivo com o pacote nativo `os`."
   ]
  },
  {
   "cell_type": "code",
   "execution_count": 7,
   "metadata": {
    "id": "PyZ2zqwcn5CU"
   },
   "outputs": [],
   "source": [
    "import os\n",
    "\n",
    "os.rename('./dados/dow_jones_index.data', './dados/dow_jones_index.csv')"
   ]
  },
  {
   "cell_type": "markdown",
   "metadata": {
    "id": "2Zf74P1yoeYc"
   },
   "source": [
    "Pronto! Abra o arquivo e o Google Colab irá apresentar uma visualização bem legal dos dados."
   ]
  },
  {
   "cell_type": "markdown",
   "metadata": {
    "id": "zMN1Q3jdwoJm"
   },
   "source": [
    "---"
   ]
  },
  {
   "cell_type": "markdown",
   "metadata": {
    "id": "FwqgmwxakNh6"
   },
   "source": [
    "## 1\\. Pandas"
   ]
  },
  {
   "cell_type": "markdown",
   "metadata": {
    "id": "It_mfyHzkRJ8"
   },
   "source": [
    "Para processar os dados, vamos utilizar o pacote `pandas` na versão `1.1.5`. A documentação completa por ser encontrada neste [link](https://pandas.pydata.org/docs/)"
   ]
  },
  {
   "cell_type": "code",
   "execution_count": 8,
   "metadata": {
    "id": "DF3DkjPjpn1X"
   },
   "outputs": [
    {
     "name": "stdout",
     "output_type": "stream",
     "text": [
      "Collecting pandas==1.1.5\n",
      "  Downloading pandas-1.1.5-cp38-cp38-win_amd64.whl (9.0 MB)\n",
      "Requirement already satisfied: pytz>=2017.2 in c:\\users\\winni\\anaconda3\\lib\\site-packages (from pandas==1.1.5) (2021.1)\n",
      "Requirement already satisfied: python-dateutil>=2.7.3 in c:\\users\\winni\\anaconda3\\lib\\site-packages (from pandas==1.1.5) (2.8.1)\n",
      "Requirement already satisfied: numpy>=1.15.4 in c:\\users\\winni\\anaconda3\\lib\\site-packages (from pandas==1.1.5) (1.20.1)\n",
      "Requirement already satisfied: six>=1.5 in c:\\users\\winni\\anaconda3\\lib\\site-packages (from python-dateutil>=2.7.3->pandas==1.1.5) (1.15.0)\n",
      "Installing collected packages: pandas\n",
      "  Attempting uninstall: pandas\n",
      "    Found existing installation: pandas 1.2.4\n",
      "    Uninstalling pandas-1.2.4:\n",
      "      Successfully uninstalled pandas-1.2.4\n",
      "Successfully installed pandas-1.1.5\n"
     ]
    },
    {
     "name": "stderr",
     "output_type": "stream",
     "text": [
      "WARNING: Retrying (Retry(total=4, connect=None, read=None, redirect=None, status=None)) after connection broken by 'ReadTimeoutError(\"HTTPSConnectionPool(host='pypi.org', port=443): Read timed out. (read timeout=15)\")': /simple/pandas/\n",
      "WARNING: Retrying (Retry(total=3, connect=None, read=None, redirect=None, status=None)) after connection broken by 'ReadTimeoutError(\"HTTPSConnectionPool(host='pypi.org', port=443): Read timed out. (read timeout=15)\")': /simple/pandas/\n",
      "WARNING: Retrying (Retry(total=2, connect=None, read=None, redirect=None, status=None)) after connection broken by 'ReadTimeoutError(\"HTTPSConnectionPool(host='pypi.org', port=443): Read timed out. (read timeout=15)\")': /simple/pandas/\n",
      "  WARNING: Retrying (Retry(total=4, connect=None, read=None, redirect=None, status=None)) after connection broken by 'ReadTimeoutError(\"HTTPSConnectionPool(host='files.pythonhosted.org', port=443): Read timed out. (read timeout=15)\")': /packages/fd/f5/2b5dc56305fcb4bf0c176035ca1a2ed4fc2652362a8eb58f5b0d9bccfe22/pandas-1.1.5-cp38-cp38-win_amd64.whl\n",
      "  WARNING: Retrying (Retry(total=3, connect=None, read=None, redirect=None, status=None)) after connection broken by 'ReadTimeoutError(\"HTTPSConnectionPool(host='files.pythonhosted.org', port=443): Read timed out. (read timeout=15)\")': /packages/fd/f5/2b5dc56305fcb4bf0c176035ca1a2ed4fc2652362a8eb58f5b0d9bccfe22/pandas-1.1.5-cp38-cp38-win_amd64.whl\n"
     ]
    }
   ],
   "source": [
    "!pip install pandas==1.1.5"
   ]
  },
  {
   "cell_type": "markdown",
   "metadata": {
    "id": "CqVcTZE-wyBt"
   },
   "source": [
    "Vamos importar o pacote com o apelido (alias) `pd`."
   ]
  },
  {
   "cell_type": "code",
   "execution_count": 9,
   "metadata": {
    "id": "qjA_H6WapxK3"
   },
   "outputs": [],
   "source": [
    "import pandas as pd"
   ]
  },
  {
   "cell_type": "markdown",
   "metadata": {
    "id": "KFQ77on-w0Fo"
   },
   "source": [
    "Estamos prontos para ler o arquivo."
   ]
  },
  {
   "cell_type": "code",
   "execution_count": 10,
   "metadata": {
    "id": "-1yL07iwqWk3"
   },
   "outputs": [],
   "source": [
    "df = pd.read_csv('./dados/dow_jones_index.csv')"
   ]
  },
  {
   "cell_type": "markdown",
   "metadata": {
    "id": "mnLvLSWCxGt_"
   },
   "source": [
    "O pandas trabalha com o conceito de dataframe, uma estrutura de dados com muitos métodos e atributos que aceleram o processamento de dados. Alguns exemplos:"
   ]
  },
  {
   "cell_type": "markdown",
   "metadata": {
    "id": "rf6pevg7xIuQ"
   },
   "source": [
    " - Visualizando as `n` primeiras linhas:"
   ]
  },
  {
   "cell_type": "code",
   "execution_count": 11,
   "metadata": {
    "id": "fqF7AQvRqn69"
   },
   "outputs": [
    {
     "data": {
      "text/html": [
       "<div>\n",
       "<style scoped>\n",
       "    .dataframe tbody tr th:only-of-type {\n",
       "        vertical-align: middle;\n",
       "    }\n",
       "\n",
       "    .dataframe tbody tr th {\n",
       "        vertical-align: top;\n",
       "    }\n",
       "\n",
       "    .dataframe thead th {\n",
       "        text-align: right;\n",
       "    }\n",
       "</style>\n",
       "<table border=\"1\" class=\"dataframe\">\n",
       "  <thead>\n",
       "    <tr style=\"text-align: right;\">\n",
       "      <th></th>\n",
       "      <th>quarter</th>\n",
       "      <th>stock</th>\n",
       "      <th>date</th>\n",
       "      <th>open</th>\n",
       "      <th>high</th>\n",
       "      <th>low</th>\n",
       "      <th>close</th>\n",
       "      <th>volume</th>\n",
       "      <th>percent_change_price</th>\n",
       "      <th>percent_change_volume_over_last_wk</th>\n",
       "      <th>previous_weeks_volume</th>\n",
       "      <th>next_weeks_open</th>\n",
       "      <th>next_weeks_close</th>\n",
       "      <th>percent_change_next_weeks_price</th>\n",
       "      <th>days_to_next_dividend</th>\n",
       "      <th>percent_return_next_dividend</th>\n",
       "    </tr>\n",
       "  </thead>\n",
       "  <tbody>\n",
       "    <tr>\n",
       "      <th>0</th>\n",
       "      <td>1</td>\n",
       "      <td>AA</td>\n",
       "      <td>1/7/2011</td>\n",
       "      <td>$15.82</td>\n",
       "      <td>$16.72</td>\n",
       "      <td>$15.78</td>\n",
       "      <td>$16.42</td>\n",
       "      <td>239655616</td>\n",
       "      <td>3.792670</td>\n",
       "      <td>NaN</td>\n",
       "      <td>NaN</td>\n",
       "      <td>$16.71</td>\n",
       "      <td>$15.97</td>\n",
       "      <td>-4.428490</td>\n",
       "      <td>26</td>\n",
       "      <td>0.182704</td>\n",
       "    </tr>\n",
       "    <tr>\n",
       "      <th>1</th>\n",
       "      <td>1</td>\n",
       "      <td>AA</td>\n",
       "      <td>1/14/2011</td>\n",
       "      <td>$16.71</td>\n",
       "      <td>$16.71</td>\n",
       "      <td>$15.64</td>\n",
       "      <td>$15.97</td>\n",
       "      <td>242963398</td>\n",
       "      <td>-4.428490</td>\n",
       "      <td>1.380223</td>\n",
       "      <td>239655616.0</td>\n",
       "      <td>$16.19</td>\n",
       "      <td>$15.79</td>\n",
       "      <td>-2.470660</td>\n",
       "      <td>19</td>\n",
       "      <td>0.187852</td>\n",
       "    </tr>\n",
       "    <tr>\n",
       "      <th>2</th>\n",
       "      <td>1</td>\n",
       "      <td>AA</td>\n",
       "      <td>1/21/2011</td>\n",
       "      <td>$16.19</td>\n",
       "      <td>$16.38</td>\n",
       "      <td>$15.60</td>\n",
       "      <td>$15.79</td>\n",
       "      <td>138428495</td>\n",
       "      <td>-2.470660</td>\n",
       "      <td>-43.024959</td>\n",
       "      <td>242963398.0</td>\n",
       "      <td>$15.87</td>\n",
       "      <td>$16.13</td>\n",
       "      <td>1.638310</td>\n",
       "      <td>12</td>\n",
       "      <td>0.189994</td>\n",
       "    </tr>\n",
       "    <tr>\n",
       "      <th>3</th>\n",
       "      <td>1</td>\n",
       "      <td>AA</td>\n",
       "      <td>1/28/2011</td>\n",
       "      <td>$15.87</td>\n",
       "      <td>$16.63</td>\n",
       "      <td>$15.82</td>\n",
       "      <td>$16.13</td>\n",
       "      <td>151379173</td>\n",
       "      <td>1.638310</td>\n",
       "      <td>9.355500</td>\n",
       "      <td>138428495.0</td>\n",
       "      <td>$16.18</td>\n",
       "      <td>$17.14</td>\n",
       "      <td>5.933250</td>\n",
       "      <td>5</td>\n",
       "      <td>0.185989</td>\n",
       "    </tr>\n",
       "    <tr>\n",
       "      <th>4</th>\n",
       "      <td>1</td>\n",
       "      <td>AA</td>\n",
       "      <td>2/4/2011</td>\n",
       "      <td>$16.18</td>\n",
       "      <td>$17.39</td>\n",
       "      <td>$16.18</td>\n",
       "      <td>$17.14</td>\n",
       "      <td>154387761</td>\n",
       "      <td>5.933250</td>\n",
       "      <td>1.987452</td>\n",
       "      <td>151379173.0</td>\n",
       "      <td>$17.33</td>\n",
       "      <td>$17.37</td>\n",
       "      <td>0.230814</td>\n",
       "      <td>97</td>\n",
       "      <td>0.175029</td>\n",
       "    </tr>\n",
       "    <tr>\n",
       "      <th>5</th>\n",
       "      <td>1</td>\n",
       "      <td>AA</td>\n",
       "      <td>2/11/2011</td>\n",
       "      <td>$17.33</td>\n",
       "      <td>$17.48</td>\n",
       "      <td>$16.97</td>\n",
       "      <td>$17.37</td>\n",
       "      <td>114691279</td>\n",
       "      <td>0.230814</td>\n",
       "      <td>-25.712195</td>\n",
       "      <td>154387761.0</td>\n",
       "      <td>$17.39</td>\n",
       "      <td>$17.28</td>\n",
       "      <td>-0.632547</td>\n",
       "      <td>90</td>\n",
       "      <td>0.172712</td>\n",
       "    </tr>\n",
       "    <tr>\n",
       "      <th>6</th>\n",
       "      <td>1</td>\n",
       "      <td>AA</td>\n",
       "      <td>2/18/2011</td>\n",
       "      <td>$17.39</td>\n",
       "      <td>$17.68</td>\n",
       "      <td>$17.28</td>\n",
       "      <td>$17.28</td>\n",
       "      <td>80023895</td>\n",
       "      <td>-0.632547</td>\n",
       "      <td>-30.226696</td>\n",
       "      <td>114691279.0</td>\n",
       "      <td>$16.98</td>\n",
       "      <td>$16.68</td>\n",
       "      <td>-1.766780</td>\n",
       "      <td>83</td>\n",
       "      <td>0.173611</td>\n",
       "    </tr>\n",
       "    <tr>\n",
       "      <th>7</th>\n",
       "      <td>1</td>\n",
       "      <td>AA</td>\n",
       "      <td>2/25/2011</td>\n",
       "      <td>$16.98</td>\n",
       "      <td>$17.15</td>\n",
       "      <td>$15.96</td>\n",
       "      <td>$16.68</td>\n",
       "      <td>132981863</td>\n",
       "      <td>-1.766780</td>\n",
       "      <td>66.177694</td>\n",
       "      <td>80023895.0</td>\n",
       "      <td>$16.81</td>\n",
       "      <td>$16.58</td>\n",
       "      <td>-1.368230</td>\n",
       "      <td>76</td>\n",
       "      <td>0.179856</td>\n",
       "    </tr>\n",
       "    <tr>\n",
       "      <th>8</th>\n",
       "      <td>1</td>\n",
       "      <td>AA</td>\n",
       "      <td>3/4/2011</td>\n",
       "      <td>$16.81</td>\n",
       "      <td>$16.94</td>\n",
       "      <td>$16.13</td>\n",
       "      <td>$16.58</td>\n",
       "      <td>109493077</td>\n",
       "      <td>-1.368230</td>\n",
       "      <td>-17.663150</td>\n",
       "      <td>132981863.0</td>\n",
       "      <td>$16.58</td>\n",
       "      <td>$16.03</td>\n",
       "      <td>-3.317250</td>\n",
       "      <td>69</td>\n",
       "      <td>0.180941</td>\n",
       "    </tr>\n",
       "    <tr>\n",
       "      <th>9</th>\n",
       "      <td>1</td>\n",
       "      <td>AA</td>\n",
       "      <td>3/11/2011</td>\n",
       "      <td>$16.58</td>\n",
       "      <td>$16.75</td>\n",
       "      <td>$15.42</td>\n",
       "      <td>$16.03</td>\n",
       "      <td>114332562</td>\n",
       "      <td>-3.317250</td>\n",
       "      <td>4.419900</td>\n",
       "      <td>109493077.0</td>\n",
       "      <td>$15.95</td>\n",
       "      <td>$16.11</td>\n",
       "      <td>1.003130</td>\n",
       "      <td>62</td>\n",
       "      <td>0.187149</td>\n",
       "    </tr>\n",
       "  </tbody>\n",
       "</table>\n",
       "</div>"
      ],
      "text/plain": [
       "   quarter stock       date    open    high     low   close     volume  \\\n",
       "0        1    AA   1/7/2011  $15.82  $16.72  $15.78  $16.42  239655616   \n",
       "1        1    AA  1/14/2011  $16.71  $16.71  $15.64  $15.97  242963398   \n",
       "2        1    AA  1/21/2011  $16.19  $16.38  $15.60  $15.79  138428495   \n",
       "3        1    AA  1/28/2011  $15.87  $16.63  $15.82  $16.13  151379173   \n",
       "4        1    AA   2/4/2011  $16.18  $17.39  $16.18  $17.14  154387761   \n",
       "5        1    AA  2/11/2011  $17.33  $17.48  $16.97  $17.37  114691279   \n",
       "6        1    AA  2/18/2011  $17.39  $17.68  $17.28  $17.28   80023895   \n",
       "7        1    AA  2/25/2011  $16.98  $17.15  $15.96  $16.68  132981863   \n",
       "8        1    AA   3/4/2011  $16.81  $16.94  $16.13  $16.58  109493077   \n",
       "9        1    AA  3/11/2011  $16.58  $16.75  $15.42  $16.03  114332562   \n",
       "\n",
       "   percent_change_price  percent_change_volume_over_last_wk  \\\n",
       "0              3.792670                                 NaN   \n",
       "1             -4.428490                            1.380223   \n",
       "2             -2.470660                          -43.024959   \n",
       "3              1.638310                            9.355500   \n",
       "4              5.933250                            1.987452   \n",
       "5              0.230814                          -25.712195   \n",
       "6             -0.632547                          -30.226696   \n",
       "7             -1.766780                           66.177694   \n",
       "8             -1.368230                          -17.663150   \n",
       "9             -3.317250                            4.419900   \n",
       "\n",
       "   previous_weeks_volume next_weeks_open next_weeks_close  \\\n",
       "0                    NaN          $16.71           $15.97   \n",
       "1            239655616.0          $16.19           $15.79   \n",
       "2            242963398.0          $15.87           $16.13   \n",
       "3            138428495.0          $16.18           $17.14   \n",
       "4            151379173.0          $17.33           $17.37   \n",
       "5            154387761.0          $17.39           $17.28   \n",
       "6            114691279.0          $16.98           $16.68   \n",
       "7             80023895.0          $16.81           $16.58   \n",
       "8            132981863.0          $16.58           $16.03   \n",
       "9            109493077.0          $15.95           $16.11   \n",
       "\n",
       "   percent_change_next_weeks_price  days_to_next_dividend  \\\n",
       "0                        -4.428490                     26   \n",
       "1                        -2.470660                     19   \n",
       "2                         1.638310                     12   \n",
       "3                         5.933250                      5   \n",
       "4                         0.230814                     97   \n",
       "5                        -0.632547                     90   \n",
       "6                        -1.766780                     83   \n",
       "7                        -1.368230                     76   \n",
       "8                        -3.317250                     69   \n",
       "9                         1.003130                     62   \n",
       "\n",
       "   percent_return_next_dividend  \n",
       "0                      0.182704  \n",
       "1                      0.187852  \n",
       "2                      0.189994  \n",
       "3                      0.185989  \n",
       "4                      0.175029  \n",
       "5                      0.172712  \n",
       "6                      0.173611  \n",
       "7                      0.179856  \n",
       "8                      0.180941  \n",
       "9                      0.187149  "
      ]
     },
     "execution_count": 11,
     "metadata": {},
     "output_type": "execute_result"
    }
   ],
   "source": [
    "df.head(n=10)"
   ]
  },
  {
   "cell_type": "markdown",
   "metadata": {
    "id": "Jna7T1eqxRmH"
   },
   "source": [
    " - Visualizando o nome das colunas:"
   ]
  },
  {
   "cell_type": "code",
   "execution_count": 12,
   "metadata": {
    "id": "bX_7C45pxU8Q"
   },
   "outputs": [
    {
     "data": {
      "text/plain": [
       "['quarter',\n",
       " 'stock',\n",
       " 'date',\n",
       " 'open',\n",
       " 'high',\n",
       " 'low',\n",
       " 'close',\n",
       " 'volume',\n",
       " 'percent_change_price',\n",
       " 'percent_change_volume_over_last_wk',\n",
       " 'previous_weeks_volume',\n",
       " 'next_weeks_open',\n",
       " 'next_weeks_close',\n",
       " 'percent_change_next_weeks_price',\n",
       " 'days_to_next_dividend',\n",
       " 'percent_return_next_dividend']"
      ]
     },
     "execution_count": 12,
     "metadata": {},
     "output_type": "execute_result"
    }
   ],
   "source": [
    "df.columns.to_list()"
   ]
  },
  {
   "cell_type": "markdown",
   "metadata": {
    "id": "sqLB9abQxbE-"
   },
   "source": [
    " - Verificando o número de linhas e colunas."
   ]
  },
  {
   "cell_type": "code",
   "execution_count": 13,
   "metadata": {
    "id": "sBrOUuUVxe7A"
   },
   "outputs": [
    {
     "name": "stdout",
     "output_type": "stream",
     "text": [
      "Número de linhas: 750\n",
      "Número de colunas: 16\n"
     ]
    }
   ],
   "source": [
    "linhas, colunas = df.shape\n",
    "print(f'Número de linhas: {linhas}')\n",
    "print(f'Número de colunas: {colunas}')"
   ]
  },
  {
   "cell_type": "markdown",
   "metadata": {
    "id": "bSN4zYEKyC7L"
   },
   "source": [
    "Vamos selecionar os valores de abertura, fechamento, máximo e mínimo das ações do McDonalds, listado na Dow Jones como MCD:"
   ]
  },
  {
   "cell_type": "markdown",
   "metadata": {
    "id": "CyTuPJmgzbZd"
   },
   "source": [
    " - Selecionando as linha do dataframe original `df` em que a coluna `stock` é igual a `MCD`."
   ]
  },
  {
   "cell_type": "code",
   "execution_count": 14,
   "metadata": {
    "id": "25XUDMPqqwgH"
   },
   "outputs": [],
   "source": [
    "df_mcd = df[df['stock'] == 'MCD']"
   ]
  },
  {
   "cell_type": "markdown",
   "metadata": {
    "id": "ga7Z_GA0zxzA"
   },
   "source": [
    " - Selecionando apenas as colunas de data e valores de ações."
   ]
  },
  {
   "cell_type": "code",
   "execution_count": 15,
   "metadata": {
    "id": "95LDI4jCrMGI"
   },
   "outputs": [],
   "source": [
    "df_mcd = df_mcd[['date', 'open', 'high', 'low', 'close']]"
   ]
  },
  {
   "cell_type": "markdown",
   "metadata": {
    "id": "ApnHMNYOyQ8T"
   },
   "source": [
    "Excelente, o problema é que as colunas com os valores possuem o carater `$` e são do tipo texto (`object` no `pandas`)."
   ]
  },
  {
   "cell_type": "code",
   "execution_count": 16,
   "metadata": {
    "id": "DDZZralSr0Zk"
   },
   "outputs": [
    {
     "data": {
      "text/html": [
       "<div>\n",
       "<style scoped>\n",
       "    .dataframe tbody tr th:only-of-type {\n",
       "        vertical-align: middle;\n",
       "    }\n",
       "\n",
       "    .dataframe tbody tr th {\n",
       "        vertical-align: top;\n",
       "    }\n",
       "\n",
       "    .dataframe thead th {\n",
       "        text-align: right;\n",
       "    }\n",
       "</style>\n",
       "<table border=\"1\" class=\"dataframe\">\n",
       "  <thead>\n",
       "    <tr style=\"text-align: right;\">\n",
       "      <th></th>\n",
       "      <th>date</th>\n",
       "      <th>open</th>\n",
       "      <th>high</th>\n",
       "      <th>low</th>\n",
       "      <th>close</th>\n",
       "    </tr>\n",
       "  </thead>\n",
       "  <tbody>\n",
       "    <tr>\n",
       "      <th>216</th>\n",
       "      <td>1/7/2011</td>\n",
       "      <td>$77.10</td>\n",
       "      <td>$77.59</td>\n",
       "      <td>$73.59</td>\n",
       "      <td>$74.37</td>\n",
       "    </tr>\n",
       "    <tr>\n",
       "      <th>217</th>\n",
       "      <td>1/14/2011</td>\n",
       "      <td>$74.25</td>\n",
       "      <td>$74.49</td>\n",
       "      <td>$72.46</td>\n",
       "      <td>$74.06</td>\n",
       "    </tr>\n",
       "    <tr>\n",
       "      <th>218</th>\n",
       "      <td>1/21/2011</td>\n",
       "      <td>$74.65</td>\n",
       "      <td>$75.75</td>\n",
       "      <td>$74.31</td>\n",
       "      <td>$75.01</td>\n",
       "    </tr>\n",
       "    <tr>\n",
       "      <th>219</th>\n",
       "      <td>1/28/2011</td>\n",
       "      <td>$74.25</td>\n",
       "      <td>$75.85</td>\n",
       "      <td>$73.05</td>\n",
       "      <td>$73.28</td>\n",
       "    </tr>\n",
       "    <tr>\n",
       "      <th>220</th>\n",
       "      <td>2/4/2011</td>\n",
       "      <td>$73.80</td>\n",
       "      <td>$74.50</td>\n",
       "      <td>$73.08</td>\n",
       "      <td>$74.05</td>\n",
       "    </tr>\n",
       "    <tr>\n",
       "      <th>221</th>\n",
       "      <td>2/11/2011</td>\n",
       "      <td>$74.13</td>\n",
       "      <td>$76.32</td>\n",
       "      <td>$73.30</td>\n",
       "      <td>$76.14</td>\n",
       "    </tr>\n",
       "    <tr>\n",
       "      <th>222</th>\n",
       "      <td>2/18/2011</td>\n",
       "      <td>$76.07</td>\n",
       "      <td>$76.45</td>\n",
       "      <td>$75.70</td>\n",
       "      <td>$76.13</td>\n",
       "    </tr>\n",
       "    <tr>\n",
       "      <th>223</th>\n",
       "      <td>2/25/2011</td>\n",
       "      <td>$75.95</td>\n",
       "      <td>$76.45</td>\n",
       "      <td>$74.42</td>\n",
       "      <td>$74.44</td>\n",
       "    </tr>\n",
       "    <tr>\n",
       "      <th>224</th>\n",
       "      <td>3/4/2011</td>\n",
       "      <td>$74.51</td>\n",
       "      <td>$76.63</td>\n",
       "      <td>$73.64</td>\n",
       "      <td>$76.03</td>\n",
       "    </tr>\n",
       "    <tr>\n",
       "      <th>225</th>\n",
       "      <td>3/11/2011</td>\n",
       "      <td>$76.38</td>\n",
       "      <td>$77.25</td>\n",
       "      <td>$74.97</td>\n",
       "      <td>$76.73</td>\n",
       "    </tr>\n",
       "  </tbody>\n",
       "</table>\n",
       "</div>"
      ],
      "text/plain": [
       "          date    open    high     low   close\n",
       "216   1/7/2011  $77.10  $77.59  $73.59  $74.37\n",
       "217  1/14/2011  $74.25  $74.49  $72.46  $74.06\n",
       "218  1/21/2011  $74.65  $75.75  $74.31  $75.01\n",
       "219  1/28/2011  $74.25  $75.85  $73.05  $73.28\n",
       "220   2/4/2011  $73.80  $74.50  $73.08  $74.05\n",
       "221  2/11/2011  $74.13  $76.32  $73.30  $76.14\n",
       "222  2/18/2011  $76.07  $76.45  $75.70  $76.13\n",
       "223  2/25/2011  $75.95  $76.45  $74.42  $74.44\n",
       "224   3/4/2011  $74.51  $76.63  $73.64  $76.03\n",
       "225  3/11/2011  $76.38  $77.25  $74.97  $76.73"
      ]
     },
     "execution_count": 16,
     "metadata": {},
     "output_type": "execute_result"
    }
   ],
   "source": [
    "df_mcd.head(n=10)"
   ]
  },
  {
   "cell_type": "code",
   "execution_count": 17,
   "metadata": {
    "id": "8cx7gP6TyjOu"
   },
   "outputs": [
    {
     "data": {
      "text/plain": [
       "date     object\n",
       "open     object\n",
       "high     object\n",
       "low      object\n",
       "close    object\n",
       "dtype: object"
      ]
     },
     "execution_count": 17,
     "metadata": {},
     "output_type": "execute_result"
    }
   ],
   "source": [
    "df_mcd.dtypes"
   ]
  },
  {
   "cell_type": "markdown",
   "metadata": {
    "id": "IsSYxtOOys72"
   },
   "source": [
    "Vamos limpar as colunas com o método `apply`, que permite a aplicação de uma função anônima (`lambda`) qualquer. A função `lambda` remove o caracter **$** e faz a conversão do tipo de `str` para `float`."
   ]
  },
  {
   "cell_type": "code",
   "execution_count": 18,
   "metadata": {
    "id": "u3OGT0r_sFCJ"
   },
   "outputs": [],
   "source": [
    "for col in ['open', 'high', 'low', 'close']:\n",
    "  df_mcd[col] = df_mcd[col].apply(lambda value: float(value.split(sep='$')[-1]))"
   ]
  },
  {
   "cell_type": "markdown",
   "metadata": {
    "id": "4xEkH-RdzLUi"
   },
   "source": [
    "Verifique novamente os dados e seus tipos."
   ]
  },
  {
   "cell_type": "code",
   "execution_count": 19,
   "metadata": {
    "id": "4w3-4q1gsv3Y"
   },
   "outputs": [
    {
     "data": {
      "text/html": [
       "<div>\n",
       "<style scoped>\n",
       "    .dataframe tbody tr th:only-of-type {\n",
       "        vertical-align: middle;\n",
       "    }\n",
       "\n",
       "    .dataframe tbody tr th {\n",
       "        vertical-align: top;\n",
       "    }\n",
       "\n",
       "    .dataframe thead th {\n",
       "        text-align: right;\n",
       "    }\n",
       "</style>\n",
       "<table border=\"1\" class=\"dataframe\">\n",
       "  <thead>\n",
       "    <tr style=\"text-align: right;\">\n",
       "      <th></th>\n",
       "      <th>date</th>\n",
       "      <th>open</th>\n",
       "      <th>high</th>\n",
       "      <th>low</th>\n",
       "      <th>close</th>\n",
       "    </tr>\n",
       "  </thead>\n",
       "  <tbody>\n",
       "    <tr>\n",
       "      <th>216</th>\n",
       "      <td>1/7/2011</td>\n",
       "      <td>77.10</td>\n",
       "      <td>77.59</td>\n",
       "      <td>73.59</td>\n",
       "      <td>74.37</td>\n",
       "    </tr>\n",
       "    <tr>\n",
       "      <th>217</th>\n",
       "      <td>1/14/2011</td>\n",
       "      <td>74.25</td>\n",
       "      <td>74.49</td>\n",
       "      <td>72.46</td>\n",
       "      <td>74.06</td>\n",
       "    </tr>\n",
       "    <tr>\n",
       "      <th>218</th>\n",
       "      <td>1/21/2011</td>\n",
       "      <td>74.65</td>\n",
       "      <td>75.75</td>\n",
       "      <td>74.31</td>\n",
       "      <td>75.01</td>\n",
       "    </tr>\n",
       "    <tr>\n",
       "      <th>219</th>\n",
       "      <td>1/28/2011</td>\n",
       "      <td>74.25</td>\n",
       "      <td>75.85</td>\n",
       "      <td>73.05</td>\n",
       "      <td>73.28</td>\n",
       "    </tr>\n",
       "    <tr>\n",
       "      <th>220</th>\n",
       "      <td>2/4/2011</td>\n",
       "      <td>73.80</td>\n",
       "      <td>74.50</td>\n",
       "      <td>73.08</td>\n",
       "      <td>74.05</td>\n",
       "    </tr>\n",
       "    <tr>\n",
       "      <th>221</th>\n",
       "      <td>2/11/2011</td>\n",
       "      <td>74.13</td>\n",
       "      <td>76.32</td>\n",
       "      <td>73.30</td>\n",
       "      <td>76.14</td>\n",
       "    </tr>\n",
       "    <tr>\n",
       "      <th>222</th>\n",
       "      <td>2/18/2011</td>\n",
       "      <td>76.07</td>\n",
       "      <td>76.45</td>\n",
       "      <td>75.70</td>\n",
       "      <td>76.13</td>\n",
       "    </tr>\n",
       "    <tr>\n",
       "      <th>223</th>\n",
       "      <td>2/25/2011</td>\n",
       "      <td>75.95</td>\n",
       "      <td>76.45</td>\n",
       "      <td>74.42</td>\n",
       "      <td>74.44</td>\n",
       "    </tr>\n",
       "    <tr>\n",
       "      <th>224</th>\n",
       "      <td>3/4/2011</td>\n",
       "      <td>74.51</td>\n",
       "      <td>76.63</td>\n",
       "      <td>73.64</td>\n",
       "      <td>76.03</td>\n",
       "    </tr>\n",
       "    <tr>\n",
       "      <th>225</th>\n",
       "      <td>3/11/2011</td>\n",
       "      <td>76.38</td>\n",
       "      <td>77.25</td>\n",
       "      <td>74.97</td>\n",
       "      <td>76.73</td>\n",
       "    </tr>\n",
       "  </tbody>\n",
       "</table>\n",
       "</div>"
      ],
      "text/plain": [
       "          date   open   high    low  close\n",
       "216   1/7/2011  77.10  77.59  73.59  74.37\n",
       "217  1/14/2011  74.25  74.49  72.46  74.06\n",
       "218  1/21/2011  74.65  75.75  74.31  75.01\n",
       "219  1/28/2011  74.25  75.85  73.05  73.28\n",
       "220   2/4/2011  73.80  74.50  73.08  74.05\n",
       "221  2/11/2011  74.13  76.32  73.30  76.14\n",
       "222  2/18/2011  76.07  76.45  75.70  76.13\n",
       "223  2/25/2011  75.95  76.45  74.42  74.44\n",
       "224   3/4/2011  74.51  76.63  73.64  76.03\n",
       "225  3/11/2011  76.38  77.25  74.97  76.73"
      ]
     },
     "execution_count": 19,
     "metadata": {},
     "output_type": "execute_result"
    }
   ],
   "source": [
    "df_mcd.head(n=10)"
   ]
  },
  {
   "cell_type": "code",
   "execution_count": 20,
   "metadata": {
    "id": "FDZyy9SVzPoK"
   },
   "outputs": [
    {
     "data": {
      "text/plain": [
       "date      object\n",
       "open     float64\n",
       "high     float64\n",
       "low      float64\n",
       "close    float64\n",
       "dtype: object"
      ]
     },
     "execution_count": 20,
     "metadata": {},
     "output_type": "execute_result"
    }
   ],
   "source": [
    "df_mcd.dtypes"
   ]
  },
  {
   "cell_type": "markdown",
   "metadata": {
    "id": "lIzrYVGWkRJ9"
   },
   "source": [
    "Excelente, agora podemos explorar os dados visualmente."
   ]
  },
  {
   "cell_type": "markdown",
   "metadata": {
    "id": "_-TI78q1yuQa"
   },
   "source": [
    "**Agora é a sua vez!** Conduza o mesmo processo para extrair e tratar os dados da empresa Coca-Cola (`stock` column igual a `KO`)."
   ]
  },
  {
   "cell_type": "code",
   "execution_count": null,
   "metadata": {
    "id": "fGbOS3kNzNNF"
   },
   "outputs": [],
   "source": [
    "# extração e tratamento dos dados da empresa Coca-Cola."
   ]
  },
  {
   "cell_type": "markdown",
   "metadata": {},
   "source": [
    " - Selecionando as linha do dataframe original `df` em que a coluna `stock` é igual a `KO`."
   ]
  },
  {
   "cell_type": "code",
   "execution_count": 27,
   "metadata": {},
   "outputs": [],
   "source": [
    "df_ko = df[df['stock'] == 'KO']"
   ]
  },
  {
   "cell_type": "markdown",
   "metadata": {},
   "source": [
    "- Selecionando apenas as colunas de data e valores de ações."
   ]
  },
  {
   "cell_type": "code",
   "execution_count": 28,
   "metadata": {},
   "outputs": [],
   "source": [
    "df_ko = df_mcd[['date', 'open', 'high', 'low', 'close']]"
   ]
  },
  {
   "cell_type": "markdown",
   "metadata": {},
   "source": [
    "- Limpando as colunas com o método `apply`, que permite a aplicação de uma função anônima (lambda) qualquer. A função lambda remove o caracter `$` e faz a conversão do tipo de `str` para `float`."
   ]
  },
  {
   "cell_type": "code",
   "execution_count": 29,
   "metadata": {},
   "outputs": [],
   "source": [
    "for col in ['open', 'high', 'low', 'close']:\n",
    "  df_ko[col] = df_mcd[col].apply(lambda value: float(value.split(sep='$')[-1]))"
   ]
  },
  {
   "cell_type": "code",
   "execution_count": 30,
   "metadata": {},
   "outputs": [
    {
     "data": {
      "text/html": [
       "<div>\n",
       "<style scoped>\n",
       "    .dataframe tbody tr th:only-of-type {\n",
       "        vertical-align: middle;\n",
       "    }\n",
       "\n",
       "    .dataframe tbody tr th {\n",
       "        vertical-align: top;\n",
       "    }\n",
       "\n",
       "    .dataframe thead th {\n",
       "        text-align: right;\n",
       "    }\n",
       "</style>\n",
       "<table border=\"1\" class=\"dataframe\">\n",
       "  <thead>\n",
       "    <tr style=\"text-align: right;\">\n",
       "      <th></th>\n",
       "      <th>date</th>\n",
       "      <th>open</th>\n",
       "      <th>high</th>\n",
       "      <th>low</th>\n",
       "      <th>close</th>\n",
       "    </tr>\n",
       "  </thead>\n",
       "  <tbody>\n",
       "    <tr>\n",
       "      <th>204</th>\n",
       "      <td>1/7/2011</td>\n",
       "      <td>65.88</td>\n",
       "      <td>65.88</td>\n",
       "      <td>62.56</td>\n",
       "      <td>62.92</td>\n",
       "    </tr>\n",
       "    <tr>\n",
       "      <th>205</th>\n",
       "      <td>1/14/2011</td>\n",
       "      <td>62.70</td>\n",
       "      <td>63.86</td>\n",
       "      <td>62.56</td>\n",
       "      <td>63.13</td>\n",
       "    </tr>\n",
       "    <tr>\n",
       "      <th>206</th>\n",
       "      <td>1/21/2011</td>\n",
       "      <td>63.21</td>\n",
       "      <td>63.92</td>\n",
       "      <td>62.72</td>\n",
       "      <td>62.77</td>\n",
       "    </tr>\n",
       "    <tr>\n",
       "      <th>207</th>\n",
       "      <td>1/28/2011</td>\n",
       "      <td>62.87</td>\n",
       "      <td>63.31</td>\n",
       "      <td>62.14</td>\n",
       "      <td>62.21</td>\n",
       "    </tr>\n",
       "    <tr>\n",
       "      <th>208</th>\n",
       "      <td>2/4/2011</td>\n",
       "      <td>62.32</td>\n",
       "      <td>63.48</td>\n",
       "      <td>61.89</td>\n",
       "      <td>62.56</td>\n",
       "    </tr>\n",
       "    <tr>\n",
       "      <th>209</th>\n",
       "      <td>2/11/2011</td>\n",
       "      <td>62.67</td>\n",
       "      <td>64.75</td>\n",
       "      <td>62.32</td>\n",
       "      <td>63.57</td>\n",
       "    </tr>\n",
       "    <tr>\n",
       "      <th>210</th>\n",
       "      <td>2/18/2011</td>\n",
       "      <td>63.67</td>\n",
       "      <td>64.72</td>\n",
       "      <td>62.55</td>\n",
       "      <td>64.55</td>\n",
       "    </tr>\n",
       "    <tr>\n",
       "      <th>211</th>\n",
       "      <td>2/25/2011</td>\n",
       "      <td>63.36</td>\n",
       "      <td>64.40</td>\n",
       "      <td>63.33</td>\n",
       "      <td>64.31</td>\n",
       "    </tr>\n",
       "    <tr>\n",
       "      <th>212</th>\n",
       "      <td>3/4/2011</td>\n",
       "      <td>64.17</td>\n",
       "      <td>65.87</td>\n",
       "      <td>63.86</td>\n",
       "      <td>65.21</td>\n",
       "    </tr>\n",
       "    <tr>\n",
       "      <th>213</th>\n",
       "      <td>3/11/2011</td>\n",
       "      <td>65.32</td>\n",
       "      <td>65.84</td>\n",
       "      <td>64.47</td>\n",
       "      <td>64.81</td>\n",
       "    </tr>\n",
       "  </tbody>\n",
       "</table>\n",
       "</div>"
      ],
      "text/plain": [
       "          date   open   high    low  close\n",
       "204   1/7/2011  65.88  65.88  62.56  62.92\n",
       "205  1/14/2011  62.70  63.86  62.56  63.13\n",
       "206  1/21/2011  63.21  63.92  62.72  62.77\n",
       "207  1/28/2011  62.87  63.31  62.14  62.21\n",
       "208   2/4/2011  62.32  63.48  61.89  62.56\n",
       "209  2/11/2011  62.67  64.75  62.32  63.57\n",
       "210  2/18/2011  63.67  64.72  62.55  64.55\n",
       "211  2/25/2011  63.36  64.40  63.33  64.31\n",
       "212   3/4/2011  64.17  65.87  63.86  65.21\n",
       "213  3/11/2011  65.32  65.84  64.47  64.81"
      ]
     },
     "execution_count": 30,
     "metadata": {},
     "output_type": "execute_result"
    }
   ],
   "source": [
    "df_ko.head(n=10)"
   ]
  },
  {
   "cell_type": "markdown",
   "metadata": {
    "id": "AAyOBwWQkRJ-"
   },
   "source": [
    "---"
   ]
  },
  {
   "cell_type": "markdown",
   "metadata": {
    "id": "1YCQI-BskR5H"
   },
   "source": [
    "## 2\\. Seaborn"
   ]
  },
  {
   "cell_type": "markdown",
   "metadata": {
    "id": "VSgsKxY4kR5I"
   },
   "source": [
    "Para visualizar os dados, vamos utilizar o pacote `seaborn` na versão `0.11.1`. A documentação completa por ser encontrada neste [link](https://seaborn.pydata.org/)"
   ]
  },
  {
   "cell_type": "code",
   "execution_count": 21,
   "metadata": {
    "id": "fYNfn2eDs1MN"
   },
   "outputs": [
    {
     "name": "stdout",
     "output_type": "stream",
     "text": [
      "Requirement already satisfied: seaborn==0.11.1 in c:\\users\\winni\\anaconda3\\lib\\site-packages (0.11.1)\n",
      "Requirement already satisfied: numpy>=1.15 in c:\\users\\winni\\anaconda3\\lib\\site-packages (from seaborn==0.11.1) (1.20.1)\n",
      "Requirement already satisfied: scipy>=1.0 in c:\\users\\winni\\anaconda3\\lib\\site-packages (from seaborn==0.11.1) (1.6.2)\n",
      "Requirement already satisfied: matplotlib>=2.2 in c:\\users\\winni\\anaconda3\\lib\\site-packages (from seaborn==0.11.1) (3.3.4)\n",
      "Requirement already satisfied: pandas>=0.23 in c:\\users\\winni\\anaconda3\\lib\\site-packages (from seaborn==0.11.1) (1.1.5)\n",
      "Requirement already satisfied: kiwisolver>=1.0.1 in c:\\users\\winni\\anaconda3\\lib\\site-packages (from matplotlib>=2.2->seaborn==0.11.1) (1.3.1)\n",
      "Requirement already satisfied: cycler>=0.10 in c:\\users\\winni\\anaconda3\\lib\\site-packages (from matplotlib>=2.2->seaborn==0.11.1) (0.10.0)\n",
      "Requirement already satisfied: pillow>=6.2.0 in c:\\users\\winni\\anaconda3\\lib\\site-packages (from matplotlib>=2.2->seaborn==0.11.1) (8.2.0)\n",
      "Requirement already satisfied: pyparsing!=2.0.4,!=2.1.2,!=2.1.6,>=2.0.3 in c:\\users\\winni\\anaconda3\\lib\\site-packages (from matplotlib>=2.2->seaborn==0.11.1) (2.4.7)\n",
      "Requirement already satisfied: python-dateutil>=2.1 in c:\\users\\winni\\anaconda3\\lib\\site-packages (from matplotlib>=2.2->seaborn==0.11.1) (2.8.1)\n",
      "Requirement already satisfied: six in c:\\users\\winni\\anaconda3\\lib\\site-packages (from cycler>=0.10->matplotlib>=2.2->seaborn==0.11.1) (1.15.0)\n",
      "Requirement already satisfied: pytz>=2017.2 in c:\\users\\winni\\anaconda3\\lib\\site-packages (from pandas>=0.23->seaborn==0.11.1) (2021.1)\n"
     ]
    }
   ],
   "source": [
    "!pip install seaborn==0.11.1"
   ]
  },
  {
   "cell_type": "markdown",
   "metadata": {
    "id": "DtuGrHyQ0CJ-"
   },
   "source": [
    "Vamos importar o pacote com o apelido (alias) `sns`."
   ]
  },
  {
   "cell_type": "code",
   "execution_count": 25,
   "metadata": {
    "id": "fAeWYQjis8E5"
   },
   "outputs": [],
   "source": [
    "import seaborn as sns"
   ]
  },
  {
   "cell_type": "markdown",
   "metadata": {
    "id": "TqYmOY1m0Eh3"
   },
   "source": [
    "Vamos visualizar o os valores de abertura das ações ao longo do tempo."
   ]
  },
  {
   "cell_type": "code",
   "execution_count": 31,
   "metadata": {
    "id": "7-5D1wKcwAuO"
   },
   "outputs": [
    {
     "name": "stderr",
     "output_type": "stream",
     "text": [
      "<ipython-input-31-533bf4eae097>:2: UserWarning: FixedFormatter should only be used together with FixedLocator\n",
      "  _ = plot.set_xticklabels(labels=df_mcd['date'], rotation=90)\n"
     ]
    },
    {
     "data": {
      "image/png": "[encoded data removed]",
      "text/plain": [
       "<Figure size 432x288 with 1 Axes>"
      ]
     },
     "metadata": {
      "needs_background": "light"
     },
     "output_type": "display_data"
    }
   ],
   "source": [
    "plot = sns.lineplot(x=\"date\", y=\"open\", data=df_mcd)\n",
    "_ = plot.set_xticklabels(labels=df_mcd['date'], rotation=90)"
   ]
  },
  {
   "cell_type": "markdown",
   "metadata": {
    "id": "gh5Fz23t0MA-"
   },
   "source": [
    "Vamos também visualizar o os valores de fechamento das ações ao longo do tempo."
   ]
  },
  {
   "cell_type": "code",
   "execution_count": 32,
   "metadata": {
    "id": "5QARzs47wP_O"
   },
   "outputs": [
    {
     "name": "stderr",
     "output_type": "stream",
     "text": [
      "<ipython-input-32-1af5daa54bb0>:2: UserWarning: FixedFormatter should only be used together with FixedLocator\n",
      "  _ = plot.set_xticklabels(labels=df_mcd['date'], rotation=90)\n"
     ]
    },
    {
     "data": {
      "image/png": "[encoded data removed]",
      "text/plain": [
       "<Figure size 432x288 with 1 Axes>"
      ]
     },
     "metadata": {
      "needs_background": "light"
     },
     "output_type": "display_data"
    }
   ],
   "source": [
    "plot = sns.lineplot(x=\"date\", y=\"close\", data=df_mcd)\n",
    "_ = plot.set_xticklabels(labels=df_mcd['date'], rotation=90)"
   ]
  },
  {
   "cell_type": "markdown",
   "metadata": {
    "id": "08BOzhId0TfH"
   },
   "source": [
    "Para facilitar a comparação, vamos visualizar os quatro valores no mesmo gráfico."
   ]
  },
  {
   "cell_type": "code",
   "execution_count": 33,
   "metadata": {
    "id": "boKoMZbXtAJV"
   },
   "outputs": [
    {
     "name": "stderr",
     "output_type": "stream",
     "text": [
      "<ipython-input-33-754274876e32>:2: UserWarning: FixedFormatter should only be used together with FixedLocator\n",
      "  _ = plot.set_xticklabels(labels=df_mcd['date'], rotation=90)\n"
     ]
    },
    {
     "data": {
      "image/png": "[encoded data removed]",
      "text/plain": [
       "<Figure size 432x288 with 1 Axes>"
      ]
     },
     "metadata": {
      "needs_background": "light"
     },
     "output_type": "display_data"
    }
   ],
   "source": [
    "plot = sns.lineplot(x=\"date\", y=\"value\", hue='variable', data=pd.melt(df_mcd, ['date']))\n",
    "_ = plot.set_xticklabels(labels=df_mcd['date'], rotation=90)"
   ]
  },
  {
   "cell_type": "markdown",
   "metadata": {
    "id": "H6nM4hJQ1mnb"
   },
   "source": [
    "Para finalizar, vamos salvar o gráfico numa figura."
   ]
  },
  {
   "cell_type": "code",
   "execution_count": 34,
   "metadata": {
    "id": "I7Wncbvd1lzE"
   },
   "outputs": [],
   "source": [
    "plot.figure.savefig(\"./mcd.png\")"
   ]
  },
  {
   "cell_type": "markdown",
   "metadata": {
    "id": "4mJNcUM7kR5J"
   },
   "source": [
    "**Agora é a sua vez,** faça o gráfico acima para a empresa Coca-Cola e salve a imagem com o nome `ko.png`."
   ]
  },
  {
   "cell_type": "code",
   "execution_count": 88,
   "metadata": {
    "id": "0S_xMlt_zjwV"
   },
   "outputs": [],
   "source": [
    "# visualização dos dados da Coca-Cola."
   ]
  },
  {
   "cell_type": "markdown",
   "metadata": {
    "id": "fYM0WRi0zoQx"
   },
   "source": [
    "Analise as duas imagens e escreva pelo menos um *insight* que você consegue extrair dos dados. Fique a vontade para escrever quantos *insights* você quiser."
   ]
  },
  {
   "cell_type": "code",
   "execution_count": 35,
   "metadata": {},
   "outputs": [
    {
     "name": "stderr",
     "output_type": "stream",
     "text": [
      "<ipython-input-35-4969c74ea863>:2: UserWarning: FixedFormatter should only be used together with FixedLocator\n",
      "  _ = plot.set_xticklabels(labels=df_ko['date'], rotation=90)\n"
     ]
    },
    {
     "data": {
      "image/png": "[encoded data removed]",
      "text/plain": [
       "<Figure size 432x288 with 1 Axes>"
      ]
     },
     "metadata": {
      "needs_background": "light"
     },
     "output_type": "display_data"
    }
   ],
   "source": [
    "plot = sns.lineplot(x=\"date\", y=\"open\", data=df_ko)\n",
    "_ = plot.set_xticklabels(labels=df_ko['date'], rotation=90)"
   ]
  },
  {
   "cell_type": "code",
   "execution_count": 36,
   "metadata": {},
   "outputs": [
    {
     "name": "stderr",
     "output_type": "stream",
     "text": [
      "<ipython-input-36-6263e5c29ad6>:2: UserWarning: FixedFormatter should only be used together with FixedLocator\n",
      "  _ = plot.set_xticklabels(labels=df_ko['date'], rotation=90)\n"
     ]
    },
    {
     "data": {
      "image/png": "[encoded data removed]",
      "text/plain": [
       "<Figure size 432x288 with 1 Axes>"
      ]
     },
     "metadata": {
      "needs_background": "light"
     },
     "output_type": "display_data"
    }
   ],
   "source": [
    "plot = sns.lineplot(x=\"date\", y=\"close\", data=df_ko)\n",
    "_ = plot.set_xticklabels(labels=df_ko['date'], rotation=90)"
   ]
  },
  {
   "cell_type": "code",
   "execution_count": 37,
   "metadata": {},
   "outputs": [
    {
     "name": "stderr",
     "output_type": "stream",
     "text": [
      "<ipython-input-37-d1742a8d3b49>:2: UserWarning: FixedFormatter should only be used together with FixedLocator\n",
      "  _ = plot.set_xticklabels(labels=df_ko['date'], rotation=90)\n"
     ]
    },
    {
     "data": {
      "image/png": "[encoded data removed]",
      "text/plain": [
       "<Figure size 432x288 with 1 Axes>"
      ]
     },
     "metadata": {
      "needs_background": "light"
     },
     "output_type": "display_data"
    }
   ],
   "source": [
    "plot = sns.lineplot(x=\"date\", y=\"value\", hue='variable', data=pd.melt(df_ko, ['date']))\n",
    "_ = plot.set_xticklabels(labels=df_ko['date'], rotation=90)"
   ]
  },
  {
   "cell_type": "code",
   "execution_count": 72,
   "metadata": {},
   "outputs": [],
   "source": [
    "import statistics as st"
   ]
  },
  {
   "cell_type": "code",
   "execution_count": 86,
   "metadata": {},
   "outputs": [],
   "source": [
    "#criando métricas para *abertura*\n",
    "variancia_abertura = st.variance(df_ko['open'])\n",
    "media_abertura = st.mean(df_ko['open'])\n",
    "min_abertura = min(df_ko['open'])\n",
    "max_abertura = max(df_ko['open'])\n",
    "inf_abertura = 'O valor médio de abertura foi R$ %.2f, com mínima de R$ %.2f, máxima de R$ %.2f e variância igual a %.2f' %(media_abertura,min_abertura, max_abertura, variancia_abertura)"
   ]
  },
  {
   "cell_type": "code",
   "execution_count": 87,
   "metadata": {},
   "outputs": [],
   "source": [
    "#criando métricas para *fechamento*\n",
    "variancia_fechamento = st.variance(df_ko['close'])\n",
    "media_fechamento = st.mean(df_ko['close'])\n",
    "min_fechamento = min(df_ko['close'])\n",
    "max_fechamento = max(df_ko['close'])\n",
    "inf_fechamento = 'O valor médio de fechamento foi R$ %.2f, com mínima de R$ %.2f, máxima de R$ %.2f e variância igual a %.2f' %(media_fechamento,min_fechamento, max_fechamento, variancia_fechamento)"
   ]
  },
  {
   "cell_type": "code",
   "execution_count": null,
   "metadata": {},
   "outputs": [],
   "source": [
    "minimo = "
   ]
  },
  {
   "cell_type": "markdown",
   "metadata": {
    "id": "xGcI2Yl-0xBY"
   },
   "source": [
    "**Insight #1**: \n",
    "\n",
    "Em média, o valor de fechamento das ações da Coca-cola é superior ao valor de abertura."
   ]
  },
  {
   "cell_type": "markdown",
   "metadata": {},
   "source": [
    "**Insight #2**:\n"
   ]
  },
  {
   "cell_type": "code",
   "execution_count": 89,
   "metadata": {},
   "outputs": [
    {
     "name": "stdout",
     "output_type": "stream",
     "text": [
      "O valor médio de abertura foi R$ 65.28, com mínima de R$ 62.32, máxima de R$ 68.10 e variância igual a 3.77\n"
     ]
    }
   ],
   "source": [
    "print(inf_abertura)"
   ]
  },
  {
   "cell_type": "markdown",
   "metadata": {},
   "source": [
    "**Insight #3**:"
   ]
  },
  {
   "cell_type": "code",
   "execution_count": 90,
   "metadata": {},
   "outputs": [
    {
     "name": "stdout",
     "output_type": "stream",
     "text": [
      "O valor médio de fechamento foi R$ 65.33, com mínima de R$ 62.21, máxima de R$ 68.30 e variância igual a 3.88\n"
     ]
    }
   ],
   "source": [
    "print(inf_fechamento)"
   ]
  },
  {
   "cell_type": "markdown",
   "metadata": {},
   "source": [
    "**Insight #4**:"
   ]
  },
  {
   "cell_type": "code",
   "execution_count": 93,
   "metadata": {},
   "outputs": [
    {
     "name": "stdout",
     "output_type": "stream",
     "text": [
      "A cotação mínima das ações da Coca-Cola nesse período foi R$ 61.29\n"
     ]
    }
   ],
   "source": [
    "print('A cotação mínima das ações da Coca-Cola nesse período foi R$ %.2f' %(min(df_ko['low'])))"
   ]
  },
  {
   "cell_type": "markdown",
   "metadata": {},
   "source": [
    "**Insight #5**:"
   ]
  },
  {
   "cell_type": "code",
   "execution_count": 94,
   "metadata": {},
   "outputs": [
    {
     "name": "stdout",
     "output_type": "stream",
     "text": [
      "A cotação máxima das ações da Coca-Cola nesse período foi R$ 68.77\n"
     ]
    }
   ],
   "source": [
    "print('A cotação máxima das ações da Coca-Cola nesse período foi R$ %.2f' %(max(df_ko['high'])))"
   ]
  },
  {
   "cell_type": "markdown",
   "metadata": {
    "id": "8Ubx9z_NkR5K"
   },
   "source": [
    "---"
   ]
  }
 ],
 "metadata": {
  "colab": {
   "authorship_tag": "ABX9TyM/n4RduPmH49ocem0Vb1r7",
   "collapsed_sections": [],
   "name": "module_7_exercise.ipynb",
   "provenance": [],
   "toc_visible": true
  },
  "kernelspec": {
   "display_name": "Python 3",
   "language": "python",
   "name": "python3"
  },
  "language_info": {
   "codemirror_mode": {
    "name": "ipython",
    "version": 3
   },
   "file_extension": ".py",
   "mimetype": "text/x-python",
   "name": "python",
   "nbconvert_exporter": "python",
   "pygments_lexer": "ipython3",
   "version": "3.8.8"
  }
 },
 "nbformat": 4,
 "nbformat_minor": 1
}
